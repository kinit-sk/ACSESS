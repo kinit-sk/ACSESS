{
 "cells": [
  {
   "cell_type": "code",
   "execution_count": null,
   "metadata": {},
   "outputs": [],
   "source": [
    "from preputil import *"
   ]
  },
  {
   "cell_type": "markdown",
   "metadata": {},
   "source": [
    "Conversion is *always* from a single folder:\n",
    "\n",
    "1. if all images are on the same folder level, add a file `labels.txt` to it that has one line for each other file in the folder (in ascending order of filenames). Then call\n",
    "```python\n",
    "prepare_dataset_from_labelfile(\"name_of_your_folder\")\n",
    "```\n",
    "\n",
    "2. if there is one folder per class, then simply call\n",
    "```python\n",
    "prepare_dataset_from_subfolders(\"name_of_your_folder\")\n",
    "```"
   ]
  },
  {
   "cell_type": "markdown",
   "metadata": {},
   "source": [
    "# Example for Preparation From label file (Flowers)"
   ]
  },
  {
   "cell_type": "code",
   "execution_count": null,
   "metadata": {},
   "outputs": [],
   "source": [
    "FOLDER = \"../../flowers_online/\"\n",
    "prepare_dataset_from_labelfile(FOLDER + \"flowers\", FOLDER + \"flowers_prepared\")"
   ]
  },
  {
   "cell_type": "code",
   "execution_count": null,
   "metadata": {
    "scrolled": true
   },
   "outputs": [],
   "source": [
    "plot_classes(FOLDER + \"/flowers_prepared\")"
   ]
  },
  {
   "cell_type": "markdown",
   "metadata": {},
   "source": [
    "# Example for Preparation from Subfolders (Texture 4)"
   ]
  },
  {
   "cell_type": "code",
   "execution_count": null,
   "metadata": {},
   "outputs": [],
   "source": [
    "FOLDER = \"../../texture4_online/\"\n",
    "prepare_dataset_from_subfolders(FOLDER + \"texture4\")"
   ]
  },
  {
   "cell_type": "code",
   "execution_count": null,
   "metadata": {
    "scrolled": true
   },
   "outputs": [],
   "source": [
    "plot_classes(FOLDER + \"/texture4_resized\")"
   ]
  }
 ],
 "metadata": {
  "kernelspec": {
   "display_name": "Python 3",
   "language": "python",
   "name": "python3"
  },
  "language_info": {
   "codemirror_mode": {
    "name": "ipython",
    "version": 3
   },
   "file_extension": ".py",
   "mimetype": "text/x-python",
   "name": "python",
   "nbconvert_exporter": "python",
   "pygments_lexer": "ipython3",
   "version": "3.7.7"
  }
 },
 "nbformat": 4,
 "nbformat_minor": 4
}
