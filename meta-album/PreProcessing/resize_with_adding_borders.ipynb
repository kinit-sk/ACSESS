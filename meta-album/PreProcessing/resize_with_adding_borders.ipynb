{
 "cells": [
  {
   "cell_type": "markdown",
   "id": "05c6aca8",
   "metadata": {},
   "source": [
    "# Resize with adding smooth borders\n",
    "This notebook has the sample code to resize imagese which are not square by adding pixels in rows or columns in a way to not introduce artifacts in the images.\n",
    "\n",
    "The function `make_square_image` is responsible for 2 jobs:\n",
    "- add pixels in the borders to make squared images\n",
    "- resize the squared images into 128x128\n"
   ]
  },
  {
   "cell_type": "markdown",
   "id": "350905f4",
   "metadata": {},
   "source": [
    "### Imports"
   ]
  },
  {
   "cell_type": "code",
   "execution_count": 53,
   "id": "9eff9bd9-cec7-4610-8e8a-3d9e4e41e380",
   "metadata": {},
   "outputs": [],
   "source": [
    "import os\n",
    "import cv2\n",
    "import pandas as pd\n",
    "import matplotlib.pyplot as plt\n",
    "import math\n",
    "import numpy as np\n",
    "import shutil"
   ]
  },
  {
   "cell_type": "markdown",
   "id": "24bf25e8",
   "metadata": {},
   "source": [
    "### Resize and add border function"
   ]
  },
  {
   "cell_type": "code",
   "execution_count": 23,
   "id": "0e05b618-bb8d-48dd-8065-5a9e847efeb6",
   "metadata": {},
   "outputs": [],
   "source": [
    "def make_square_image(img):\n",
    "    \n",
    "    height, width, channels = img.shape\n",
    "    x = height if height > width else width\n",
    "    y = height if height > width else width\n",
    "    \n",
    "    #Padding\n",
    "    y_padding = y-height\n",
    "    \n",
    "    x_padding = x-width\n",
    "\n",
    "    \n",
    "    kernal = (29,29)\n",
    "\n",
    "    if y_padding > 0:\n",
    "       \n",
    "        \n",
    "        row_top_3 = img[:3,:]\n",
    "        row_bottom_3 = img[-3:,:]\n",
    "        \n",
    "        repeatition = math.ceil((width/2)/3)\n",
    "    \n",
    "        \n",
    "        start = math.floor(y_padding/2)\n",
    "        end = start+height\n",
    "        \n",
    "        \n",
    "        #-------#-------#-------#-------#-------#-------#-------\n",
    "   \n",
    "        \n",
    "            \n",
    "        blurred_top = cv2.GaussianBlur(row_top_3,kernal,0)\n",
    "        blurred_bottom = cv2.GaussianBlur(row_bottom_3,kernal,0)\n",
    "\n",
    "        repeated_top = np.repeat(blurred_top,repeats=repeatition, axis=0)\n",
    "        repeated_bottom = np.repeat(blurred_bottom,repeats=repeatition, axis=0)\n",
    "\n",
    "        one_row_image_blurred_repeated = np.vstack((repeated_top,repeated_bottom))\n",
    "        \n",
    "        new_img_height = one_row_image_blurred_repeated.shape[0]\n",
    "        new_img_width = one_row_image_blurred_repeated.shape[1]\n",
    "        if new_img_height > new_img_width:\n",
    "            one_row_image_blurred_repeated = one_row_image_blurred_repeated[:new_img_width,:]\n",
    "            \n",
    "            \n",
    "        \n",
    "        combined_img = one_row_image_blurred_repeated.copy()\n",
    "        combined_img[start:end,:] = img\n",
    "\n",
    "\n",
    "        #-------#-------#-------#-------#-------#-------#-------#-------\n",
    "        \n",
    "        \n",
    "     \n",
    "        \n",
    "    \n",
    "    elif x_padding > 0:\n",
    "        \n",
    "        col_left_3 = img[:,:3]\n",
    "        col_right_3 = img[:,-3:]\n",
    "\n",
    "       \n",
    "        repeatition = math.ceil((height/2)/3)\n",
    "    \n",
    "        \n",
    "        start = math.floor(x_padding/2)\n",
    "        end = start+width\n",
    "        \n",
    "        \n",
    "        #-------#-------#-------#-------#-------#-------#-------\n",
    "   \n",
    "       \n",
    "            \n",
    "        blurred_left = cv2.GaussianBlur(col_left_3,kernal,0)\n",
    "        blurred_right = cv2.GaussianBlur(col_right_3,kernal,0)\n",
    "\n",
    "        repeated_left = np.repeat(blurred_left,repeats=repeatition, axis=1)\n",
    "        repeated_right = np.repeat(blurred_right,repeats=repeatition, axis=1)\n",
    "\n",
    "        one_col_image_blurred_repeated = np.hstack((repeated_left,repeated_right))\n",
    "        \n",
    "        new_img_height = one_col_image_blurred_repeated.shape[0]\n",
    "        new_img_width = one_col_image_blurred_repeated.shape[1]\n",
    "        if new_img_width > new_img_height:\n",
    "            one_col_image_blurred_repeated = one_col_image_blurred_repeated[:,:new_img_height]\n",
    "\n",
    "        combined_img = one_col_image_blurred_repeated.copy()\n",
    "        combined_img[:, start:end] = img\n",
    "\n",
    "    else:\n",
    "        combined_img = img\n",
    "        \n",
    "        \n",
    "        #-------#-------#-------#-------#-------#-------#-------#-------\n",
    "    \n",
    "    resized_image = cv2.resize(combined_img, (128,128), interpolation = cv2.INTER_AREA)\n",
    "    return resized_image\n",
    "    \n",
    "    "
   ]
  },
  {
   "cell_type": "markdown",
   "id": "f5f85d98",
   "metadata": {},
   "source": [
    "### Source/Destinatino directories and the CSV with image names"
   ]
  },
  {
   "cell_type": "code",
   "execution_count": 77,
   "id": "7e1dd510-975f-4c73-a51d-ebaefbb47f83",
   "metadata": {},
   "outputs": [],
   "source": [
    "source_dir = \"source_directory\"\n",
    "destination_dir = \"destination_directory\"\n",
    "csv = \"labels.csv\""
   ]
  },
  {
   "cell_type": "markdown",
   "id": "1abf898c-0fa3-4fe5-b542-61474b28648d",
   "metadata": {},
   "source": [
    "### Load CSV filee"
   ]
  },
  {
   "cell_type": "code",
   "execution_count": 78,
   "id": "a344e304-df92-4e56-9c28-c72c43f51d6a",
   "metadata": {},
   "outputs": [],
   "source": [
    "data = pd.read_csv(csv)\n",
    "data.shape"
   ]
  },
  {
   "cell_type": "markdown",
   "id": "031072a4",
   "metadata": {},
   "source": [
    "### Loop over images\n",
    "- Load image from souce directory\n",
    "- Resize using the funciton\n",
    "- Save the image to destination directory\n",
    "\n",
    "### Note:\n",
    "It is assumed the label column name is ***label*** and the file name column is ***file_name*** "
   ]
  },
  {
   "cell_type": "code",
   "execution_count": null,
   "id": "f5a4ee7d",
   "metadata": {},
   "outputs": [],
   "source": [
    "problem_indexes = [] # for capturing the indexes of images which are not resize because of any error\n",
    "\n",
    "for i,row in data.iterrows():\n",
    "    \n",
    "    read_file = os.path.join(source_dir, row.label, row.file_name)\n",
    "    write_file = os.path.join(destination_dir, row.file_name)\n",
    "\n",
    "    try:\n",
    "        img = cv2.imread(read_file)\n",
    "        sq_img = make_square_image(img)\n",
    "        cv2.imwrite(write_file, sq_img)\n",
    "\n",
    "    except:\n",
    "\n",
    "        print(\"Error at index {}\".format(i))\n",
    "        problem_indexes.append(i)\n",
    "        \n"
   ]
  },
  {
   "cell_type": "markdown",
   "id": "a343bb48",
   "metadata": {},
   "source": [
    "### Check the problematic Indexes"
   ]
  },
  {
   "cell_type": "code",
   "execution_count": null,
   "id": "7b9c30db",
   "metadata": {},
   "outputs": [],
   "source": [
    "# print the array\n",
    "problem_indexes"
   ]
  },
  {
   "cell_type": "code",
   "execution_count": null,
   "id": "34745f79",
   "metadata": {},
   "outputs": [],
   "source": [
    "# get the row from the dataframe with one index\n",
    "row = data.loc[2460534] \n",
    "row"
   ]
  }
 ],
 "metadata": {
  "kernelspec": {
   "display_name": "Python 3",
   "language": "python",
   "name": "python3"
  },
  "language_info": {
   "codemirror_mode": {
    "name": "ipython",
    "version": 3
   },
   "file_extension": ".py",
   "mimetype": "text/x-python",
   "name": "python",
   "nbconvert_exporter": "python",
   "pygments_lexer": "ipython3",
   "version": "3.8.10"
  }
 },
 "nbformat": 4,
 "nbformat_minor": 5
}
